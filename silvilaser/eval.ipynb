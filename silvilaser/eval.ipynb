{
 "cells": [
  {
   "cell_type": "code",
   "execution_count": 1,
   "id": "d7be6308",
   "metadata": {},
   "outputs": [
    {
     "name": "stdout",
     "output_type": "stream",
     "text": [
      "Jupyter environment detected. Enabling Open3D WebVisualizer.\n",
      "[Open3D INFO] WebRTC GUI backend enabled.\n",
      "[Open3D INFO] WebRTCWindowSystem: HTTP handshake server disabled.\n"
     ]
    }
   ],
   "source": [
    "import os\n",
    "import numpy as np\n",
    "import open3d as o3d\n",
    "\n",
    "from util import read_pc_np\n",
    "from evaluate_completion import compute_chamfer"
   ]
  },
  {
   "cell_type": "code",
   "execution_count": 2,
   "id": "c57d3c9e",
   "metadata": {},
   "outputs": [],
   "source": [
    "base_dir = \"/Stor1/wout/OcclusionPaper/data_treepointr_test\"\n",
    "file_gt = os.path.join(base_dir, \"input\", \"ABI_2t_1cm_SOR_6_10.txt\")\n",
    "\n",
    "file_incomplete = os.path.join(base_dir, \"input\", \"ABI_ground_1cm_SOR_6_10.txt\")\n",
    "\n",
    "file_completed = os.path.join(base_dir, \"output\", \"ABI_completion.xyz\")"
   ]
  },
  {
   "cell_type": "code",
   "execution_count": null,
   "id": "456ef453",
   "metadata": {},
   "outputs": [
    {
     "ename": "",
     "evalue": "",
     "output_type": "error",
     "traceback": [
      "\u001b[1;31mThe Kernel crashed while executing code in the current cell or a previous cell. \n",
      "\u001b[1;31mPlease review the code in the cell(s) to identify a possible cause of the failure. \n",
      "\u001b[1;31mClick <a href='https://aka.ms/vscodeJupyterKernelCrash'>here</a> for more info. \n",
      "\u001b[1;31mView Jupyter <a href='command:jupyter.viewOutput'>log</a> for further details."
     ]
    }
   ],
   "source": [
    "points_gt = read_pc_np(file_gt)\n",
    "point_incomplete = read_pc_np(file_incomplete)\n",
    "points_completed = read_pc_np(file_completed)"
   ]
  }
 ],
 "metadata": {
  "kernelspec": {
   "display_name": "treePoinTr",
   "language": "python",
   "name": "python3"
  },
  "language_info": {
   "codemirror_mode": {
    "name": "ipython",
    "version": 3
   },
   "file_extension": ".py",
   "mimetype": "text/x-python",
   "name": "python",
   "nbconvert_exporter": "python",
   "pygments_lexer": "ipython3",
   "version": "3.10.18"
  }
 },
 "nbformat": 4,
 "nbformat_minor": 5
}
